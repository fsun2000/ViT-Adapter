{
 "cells": [
  {
   "cell_type": "code",
   "execution_count": 1,
   "id": "9fff0f8b",
   "metadata": {},
   "outputs": [],
   "source": [
    "import os"
   ]
  },
  {
   "cell_type": "code",
   "execution_count": 7,
   "id": "a19631c0",
   "metadata": {},
   "outputs": [
    {
     "name": "stdout",
     "output_type": "stream",
     "text": [
      "scene0701_00 has uneven number of files!\n",
      "scene0701_01 has uneven number of files!\n",
      "scene0701_02 has uneven number of files!\n",
      "scene0689_00 has uneven number of files!\n",
      "scene0695_00 has uneven number of files!\n",
      "scene0695_01 has uneven number of files!\n",
      "scene0695_02 has uneven number of files!\n",
      "scene0695_03 has uneven number of files!\n",
      "scene0696_00 has uneven number of files!\n",
      "scene0696_01 has uneven number of files!\n",
      "scene0696_02 has uneven number of files!\n",
      "scene0704_00 has uneven number of files!\n",
      "scene0704_01 has uneven number of files!\n",
      "scene0686_00 has uneven number of files!\n",
      "scene0686_01 has uneven number of files!\n",
      "scene0686_02 has uneven number of files!\n",
      "scene0690_00 has uneven number of files!\n",
      "scene0690_01 has uneven number of files!\n",
      "scene0693_00 has uneven number of files!\n",
      "scene0693_01 has uneven number of files!\n",
      "scene0693_02 has uneven number of files!\n",
      "scene0700_00 has uneven number of files!\n",
      "scene0700_01 has uneven number of files!\n",
      "scene0700_02 has uneven number of files!\n",
      "scene0699_00 has uneven number of files!\n",
      "scene0697_00 has uneven number of files!\n",
      "scene0697_01 has uneven number of files!\n",
      "scene0697_02 has uneven number of files!\n",
      "scene0697_03 has uneven number of files!\n",
      "scene0702_00 has uneven number of files!\n",
      "scene0702_01 has uneven number of files!\n",
      "scene0702_02 has uneven number of files!\n",
      "scene0685_00 has uneven number of files!\n",
      "scene0685_01 has uneven number of files!\n",
      "scene0685_02 has uneven number of files!\n"
     ]
    }
   ],
   "source": [
    "basedir = \"/project/fsun/data/scannet/scans\"\n",
    "\n",
    "scans = os.listdir(basedir)\n",
    "\n",
    "with open(\"/project/fsun/data/scannet/splits/scannetv2_val.txt\", 'r') as f:\n",
    "    scans = f.readlines()\n",
    "    \n",
    "    for scene_id in scans:\n",
    "        scene_id = scene_id.strip()\n",
    "\n",
    "        m2f_p = os.path.join(basedir, scene_id, 'm2f_masks_2')\n",
    "        vit_p = os.path.join(basedir, scene_id, 'ViT_masks')\n",
    "        \n",
    "        n_m2f_files = len(os.listdir(m2f_p))\n",
    "        n_vit_files = len(os.listdir(vit_p))\n",
    "        \n",
    "        if n_m2f_files != n_vit_files:\n",
    "            print(f\"{scene_id} has uneven number of files!\")"
   ]
  }
 ],
 "metadata": {
  "kernelspec": {
   "display_name": "Python 3 (ipykernel)",
   "language": "python",
   "name": "python3"
  },
  "language_info": {
   "codemirror_mode": {
    "name": "ipython",
    "version": 3
   },
   "file_extension": ".py",
   "mimetype": "text/x-python",
   "name": "python",
   "nbconvert_exporter": "python",
   "pygments_lexer": "ipython3",
   "version": "3.9.5"
  }
 },
 "nbformat": 4,
 "nbformat_minor": 5
}
