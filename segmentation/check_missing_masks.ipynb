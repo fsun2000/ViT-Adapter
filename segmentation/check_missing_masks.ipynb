{
 "cells": [
  {
   "cell_type": "code",
   "execution_count": 1,
   "id": "9fff0f8b",
   "metadata": {},
   "outputs": [],
   "source": [
    "import os"
   ]
  },
  {
   "cell_type": "code",
   "execution_count": 2,
   "id": "a19631c0",
   "metadata": {},
   "outputs": [
    {
     "ename": "FileNotFoundError",
     "evalue": "[Errno 2] No such file or directory: '/lisa_migration/project/fsun/data/scannet/scans'",
     "output_type": "error",
     "traceback": [
      "\u001b[0;31m---------------------------------------------------------------------------\u001b[0m",
      "\u001b[0;31mFileNotFoundError\u001b[0m                         Traceback (most recent call last)",
      "\u001b[0;32m/scratch-local/fsun.1989924/ipykernel_4007926/2760765745.py\u001b[0m in \u001b[0;36m<module>\u001b[0;34m\u001b[0m\n\u001b[1;32m      1\u001b[0m \u001b[0mbasedir\u001b[0m \u001b[0;34m=\u001b[0m \u001b[0;34m\"/lisa_migration/project/fsun/data/scannet/scans\"\u001b[0m\u001b[0;34m\u001b[0m\u001b[0;34m\u001b[0m\u001b[0m\n\u001b[1;32m      2\u001b[0m \u001b[0;34m\u001b[0m\u001b[0m\n\u001b[0;32m----> 3\u001b[0;31m \u001b[0mscans\u001b[0m \u001b[0;34m=\u001b[0m \u001b[0mos\u001b[0m\u001b[0;34m.\u001b[0m\u001b[0mlistdir\u001b[0m\u001b[0;34m(\u001b[0m\u001b[0mbasedir\u001b[0m\u001b[0;34m)\u001b[0m\u001b[0;34m\u001b[0m\u001b[0;34m\u001b[0m\u001b[0m\n\u001b[0m\u001b[1;32m      4\u001b[0m \u001b[0;34m\u001b[0m\u001b[0m\n\u001b[1;32m      5\u001b[0m \u001b[0;32mwith\u001b[0m \u001b[0mopen\u001b[0m\u001b[0;34m(\u001b[0m\u001b[0;34m\"/project/fsun/data/scannet/splits/scannetv2_val.txt\"\u001b[0m\u001b[0;34m,\u001b[0m \u001b[0;34m'r'\u001b[0m\u001b[0;34m)\u001b[0m \u001b[0;32mas\u001b[0m \u001b[0mf\u001b[0m\u001b[0;34m:\u001b[0m\u001b[0;34m\u001b[0m\u001b[0;34m\u001b[0m\u001b[0m\n",
      "\u001b[0;31mFileNotFoundError\u001b[0m: [Errno 2] No such file or directory: '/lisa_migration/project/fsun/data/scannet/scans'"
     ]
    }
   ],
   "source": [
    "basedir = \"/lisa_migration/project/fsun/data/scannet/scans\"\n",
    "\n",
    "scans = os.listdir(basedir)\n",
    "\n",
    "with open(\"/project/fsun/data/scannet/splits/scannetv2_val.txt\", 'r') as f:\n",
    "    scans = f.readlines()\n",
    "    \n",
    "    for scene_id in scans:\n",
    "        \n",
    "        print(scene_id)\n",
    "        continue\n",
    "        scene_id = scene_id.strip()\n",
    "\n",
    "        m2f_p = os.path.join(basedir, scene_id, 'm2f_masks_2')\n",
    "        vit_p = os.path.join(basedir, scene_id, 'ViT_masks')\n",
    "        \n",
    "        n_m2f_files = len(os.listdir(m2f_p))\n",
    "        n_vit_files = len(os.listdir(vit_p))\n",
    "        \n",
    "        if n_m2f_files != n_vit_files:\n",
    "            print(f\"{scene_id} has uneven number of files!\")"
   ]
  },
  {
   "cell_type": "code",
   "execution_count": 3,
   "id": "c5f0f087",
   "metadata": {},
   "outputs": [
    {
     "data": {
      "text/plain": [
       "<module 'posixpath' from '/sw/arch/Centos8/EB_production/2021/software/Python/3.9.5-GCCcore-10.3.0/lib/python3.9/posixpath.py'>"
      ]
     },
     "execution_count": 3,
     "metadata": {},
     "output_type": "execute_result"
    }
   ],
   "source": [
    "import os.path as osp\n",
    "\n",
    "scans_dir = \"/lisa_migration/project/fsun/data/scannet/scans\"\n",
    "\n",
    "for scan_id in os.listdir(scans_dir):\n",
    "    scan_p = osp.join(scans_dir, scan_id)\n",
    "    \n",
    "    dirs_to_cp = ['color_resized', 'label-filt-scannet20', 'm2f_masks', ''"
   ]
  }
 ],
 "metadata": {
  "kernelspec": {
   "display_name": "Python 3 (ipykernel)",
   "language": "python",
   "name": "python3"
  },
  "language_info": {
   "codemirror_mode": {
    "name": "ipython",
    "version": 3
   },
   "file_extension": ".py",
   "mimetype": "text/x-python",
   "name": "python",
   "nbconvert_exporter": "python",
   "pygments_lexer": "ipython3",
   "version": "3.9.5"
  }
 },
 "nbformat": 4,
 "nbformat_minor": 5
}
